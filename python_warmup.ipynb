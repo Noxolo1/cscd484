{
 "cells": [
  {
   "cell_type": "markdown",
   "id": "d5a3100f-3654-48e2-b4c3-00aa091eb445",
   "metadata": {},
   "source": [
    "# Python coding warm-up: function, classe, and control flow. "
   ]
  },
  {
   "cell_type": "markdown",
   "id": "99edbfbc-bc8f-42b2-a524-2cf30d874631",
   "metadata": {},
   "source": [
    "### Please write down your name and EWU ID here:  \n",
    "### Submit the finished notebook to Canvas by the deadline. "
   ]
  },
  {
   "cell_type": "markdown",
   "id": "cde89d48-da73-47c3-a655-c9fff7d242f8",
   "metadata": {},
   "source": [
    "### Task 1: Practice with Python class: 25 points\n",
    "Fill your code in the next cell."
   ]
  },
  {
   "cell_type": "code",
   "execution_count": null,
   "id": "ff05559b-46d5-44f4-9815-ddb0b047b06d",
   "metadata": {},
   "outputs": [],
   "source": [
    "class Rectangle:\n",
    "     \n",
    "    # add the init fucntion here that creates and initalize the\n",
    "    # attributes of an object of this class. The attributes are\n",
    "    # named as \"length\" and \"width\". The init function takes two\n",
    "    # arguments that are to assigned to the length and width\n",
    "\n",
    "    # write the init function here\n",
    "\n",
    "    \n",
    "    \n",
    "    \n",
    "    # add another function here called \"modify\" that takes two arguments that\n",
    "    # are to be assigned to the two attributes of the object.\n",
    "\n",
    "    \n",
    "    \n",
    "    \n",
    "    # add annother function here called \"area\" that is to compute\n",
    "    # and return the area of the rectangle. \n",
    "\n",
    "    \n",
    "    \n",
    "    \n",
    "\n",
    "    # add annother function here called \"perimeter\" that is to compute\n",
    "    # and return the perimeter of the rectangle. \n",
    "\n",
    "    \n"
   ]
  },
  {
   "cell_type": "markdown",
   "id": "71b24d8c-4d0d-45b1-93d1-18d4cb2fb9eb",
   "metadata": {},
   "source": [
    "### Do not change the next cell"
   ]
  },
  {
   "cell_type": "code",
   "execution_count": null,
   "id": "9a814fca-8b06-4c3a-9b95-073e415877fb",
   "metadata": {},
   "outputs": [],
   "source": [
    "## Below are testing code and expected outputs. \n",
    "\n",
    "rec1 = Rectangle(10,5)\n",
    "print('length:', rec1.length)\n",
    "print('width:', rec1.width)\n",
    "print('area:', rec1.area())\n",
    "print('perimeter', rec1.perimeter())\n",
    "print('\\n')\n",
    "\n",
    "rec1.modify(15,10)\n",
    "print('length:', rec1.length)\n",
    "print('width:', rec1.width)\n",
    "print('area:', rec1.area())\n",
    "print('perimeter', rec1.perimeter())\n"
   ]
  },
  {
   "cell_type": "markdown",
   "id": "cf4dbe57-9e9e-4435-b318-9d3a1afa8266",
   "metadata": {},
   "source": [
    "### Below is the expected output from the above cell:\n",
    "\n",
    "```\n",
    "length: 10\n",
    "width: 5\n",
    "area: 50\n",
    "perimeter 30\n",
    "\n",
    "\n",
    "length: 15\n",
    "width: 10\n",
    "area: 150\n",
    "perimeter 50\n",
    "```"
   ]
  },
  {
   "cell_type": "markdown",
   "id": "ef437652-d42f-4fe6-9390-d2718b22248d",
   "metadata": {},
   "source": [
    "### Task 2: Practice with Python function: 25 points\n",
    "Fill your code in the next cell. "
   ]
  },
  {
   "cell_type": "code",
   "execution_count": 11,
   "id": "1d30f256-b2fa-4b38-8a14-29987070c8ed",
   "metadata": {},
   "outputs": [],
   "source": [
    "# recursion based binary search\n",
    "# A is sorted list of numbers (or any objects that are comparable)\n",
    "# return the index of the element within A[left ... right] that is equal to x. Any choice is fine if there are multiple choices.\n",
    "# return -1 if x does not exist\n",
    "def binary_search_recursion(A, left, right, x):\n",
    "    "
   ]
  },
  {
   "cell_type": "markdown",
   "id": "e8f17d00-ff27-424e-b81f-cfa7bc57090c",
   "metadata": {},
   "source": [
    "### Do not change the next cell"
   ]
  },
  {
   "cell_type": "code",
   "execution_count": null,
   "id": "6938aecd-9298-4ff3-9840-414eb791cd6a",
   "metadata": {},
   "outputs": [],
   "source": [
    "print(binary_search_recursion([5,6,7,8], 0, 3, 6))\n",
    "print(binary_search_recursion([5,6,7,8], 0, 3, 4))\n",
    "print(binary_search_recursion([5], 0, 0, 4))\n",
    "print(binary_search_recursion([5], 0, 0, 5))\n",
    "print(binary_search_recursion(['ab', 'bc', 'dba', 'foo'], 0, 3, 'bcd'))\n",
    "print(binary_search_recursion(['ab', 'bc', 'dba', 'foo'], 0, 3,'bc'))\n",
    "print(binary_search_recursion(['ab', 'bc', 'dba', 'foo'], 0, 3,'zoo'))\n",
    "print(binary_search_recursion(['ab', 'bc', 'dba', 'foo'], 2, 3, 'aaa'))"
   ]
  },
  {
   "cell_type": "markdown",
   "id": "702f9dfd-f0d0-42c2-acf7-5b5eaca24842",
   "metadata": {},
   "source": [
    "### Below is the expected output from the above cell:\n",
    "```\n",
    "1\n",
    "-1\n",
    "-1\n",
    "0\n",
    "-1\n",
    "1\n",
    "-1\n",
    "-1\n",
    "```"
   ]
  }
 ],
 "metadata": {
  "kernelspec": {
   "display_name": "Python 3 (ipykernel)",
   "language": "python",
   "name": "python3"
  },
  "language_info": {
   "codemirror_mode": {
    "name": "ipython",
    "version": 3
   },
   "file_extension": ".py",
   "mimetype": "text/x-python",
   "name": "python",
   "nbconvert_exporter": "python",
   "pygments_lexer": "ipython3",
   "version": "3.8.8"
  }
 },
 "nbformat": 4,
 "nbformat_minor": 5
}
