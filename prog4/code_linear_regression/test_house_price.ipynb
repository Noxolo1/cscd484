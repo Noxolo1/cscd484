{
 "cells": [
  {
   "cell_type": "code",
   "execution_count": 1,
   "id": "706c40c4-f940-496e-9e3b-2bfa4d128c19",
   "metadata": {},
   "outputs": [],
   "source": [
    "import numpy as np\n",
    "import pandas as pd\n",
    "\n",
    "from numpy.random import rand as rand\n",
    "from numpy.random import seed as seed\n",
    "import matplotlib.pyplot as plt\n",
    "from IPython.display import clear_output\n",
    "\n",
    "import linear_regression as LR\n",
    "import sys\n",
    "\n",
    "sys.path.append('..')\n",
    "from misc.utils import MyUtils"
   ]
  },
  {
   "cell_type": "code",
   "execution_count": 2,
   "id": "32f3e390-80da-4ef3-bd0b-cb4161277d2b",
   "metadata": {},
   "outputs": [
    {
     "name": "stdout",
     "output_type": "stream",
     "text": [
      "(404, 13)\n",
      "(404, 1)\n",
      "(102, 13)\n",
      "(102, 1)\n"
     ]
    }
   ],
   "source": [
    "df_X_train = pd.read_csv('houseprice/x_train.csv', header=None)\n",
    "df_y_train = pd.read_csv('houseprice/y_train.csv', header=None)\n",
    "df_X_test = pd.read_csv('houseprice/x_test.csv', header=None)\n",
    "df_y_test = pd.read_csv('houseprice/y_test.csv', header=None)\n",
    "\n",
    "X_train = df_X_train.to_numpy()\n",
    "X_test = df_X_test.to_numpy()\n",
    "n_train = X_train.shape[0]\n",
    "\n",
    "X_all = MyUtils.normalize_0_1(np.concatenate((X_train, X_test), axis=0))\n",
    "X_train = X_all[:n_train]\n",
    "X_test = X_all[n_train:]\n",
    "\n",
    "y_train = df_y_train.to_numpy()\n",
    "y_test = df_y_test.to_numpy()\n",
    "\n",
    "\n",
    "print(X_train.shape)\n",
    "print(y_train.shape)\n",
    "print(X_test.shape)\n",
    "print(y_test.shape)\n",
    "#print(y_test)"
   ]
  },
  {
   "cell_type": "code",
   "execution_count": 29,
   "id": "18f3e85e-29ad-4d03-bf3a-5e3379162632",
   "metadata": {},
   "outputs": [],
   "source": [
    "z_r = 3"
   ]
  },
  {
   "cell_type": "code",
   "execution_count": 32,
   "id": "a66944ba-0382-4243-b4b6-5800d440bd39",
   "metadata": {},
   "outputs": [
    {
     "name": "stdout",
     "output_type": "stream",
     "text": [
      "(560, 1)\n"
     ]
    }
   ],
   "source": [
    "lr = LR.LinearRegression()\n",
    "lr.fit(X_train, y_train, CF = True, lam = 0.1, eta = 0.01, epochs = 1000000, degree = z_r)\n",
    "print(lr.w.shape)"
   ]
  },
  {
   "cell_type": "code",
   "execution_count": 33,
   "id": "40372526-7650-49f9-b4fd-00b3f47e162a",
   "metadata": {},
   "outputs": [
    {
     "name": "stdout",
     "output_type": "stream",
     "text": [
      "5.357658443160888\n",
      "10.476572555190417\n"
     ]
    }
   ],
   "source": [
    "print(lr.error(X_train, y_train))\n",
    "print(lr.error(X_test, y_test))"
   ]
  },
  {
   "cell_type": "code",
   "execution_count": 6,
   "id": "3edb1afb-52dd-439f-9d96-317351ec9109",
   "metadata": {},
   "outputs": [
    {
     "name": "stdout",
     "output_type": "stream",
     "text": [
      "(102, 13)\n"
     ]
    }
   ],
   "source": [
    "print(X_test.shape)"
   ]
  },
  {
   "cell_type": "code",
   "execution_count": 26,
   "id": "850b3039-f4e0-47c7-a742-0fd56c4264bd",
   "metadata": {},
   "outputs": [
    {
     "data": {
      "image/png": "[encoded data removed]",
      "text/plain": [
       "<Figure size 640x480 with 1 Axes>"
      ]
     },
     "metadata": {},
     "output_type": "display_data"
    }
   ],
   "source": [
    "# dont forget to remove label and legend\n",
    "\n",
    "plt.scatter(range(lr.predict(X_test[0:10:]).shape[0]), lr.predict(X_test)[0:10:], label = \"Predictions\")\n",
    "plt.scatter(range(y_test[0:10:].shape[0]), y_test[0:10:], label = \"Actual\")\n",
    "plt.legend();"
   ]
  },
  {
   "cell_type": "code",
   "execution_count": 11,
   "id": "b189c26d-3edd-438c-981b-2d152c5325ed",
   "metadata": {},
   "outputs": [
    {
     "ename": "AttributeError",
     "evalue": "'LinearRegression' object has no attribute 'MSE'",
     "output_type": "error",
     "traceback": [
      "\u001b[0;31m---------------------------------------------------------------------------\u001b[0m",
      "\u001b[0;31mAttributeError\u001b[0m                            Traceback (most recent call last)",
      "Cell \u001b[0;32mIn[11], line 1\u001b[0m\n\u001b[0;32m----> 1\u001b[0m plt\u001b[38;5;241m.\u001b[39mscatter(np\u001b[38;5;241m.\u001b[39marange(\u001b[38;5;28mlen\u001b[39m(lr\u001b[38;5;241m.\u001b[39mMSE)\u001b[38;5;241m-\u001b[39m\u001b[38;5;241m400000\u001b[39m), lr\u001b[38;5;241m.\u001b[39mMSE[\u001b[38;5;241m400000\u001b[39m:], marker\u001b[38;5;241m=\u001b[39m\u001b[38;5;124m'\u001b[39m\u001b[38;5;124m.\u001b[39m\u001b[38;5;124m'\u001b[39m)\n\u001b[1;32m      2\u001b[0m plt\u001b[38;5;241m.\u001b[39mxlabel(\u001b[38;5;124m'\u001b[39m\u001b[38;5;124mepochs\u001b[39m\u001b[38;5;124m'\u001b[39m)\n\u001b[1;32m      3\u001b[0m plt\u001b[38;5;241m.\u001b[39mylabel(\u001b[38;5;124m'\u001b[39m\u001b[38;5;124mMSE\u001b[39m\u001b[38;5;124m'\u001b[39m)\n",
      "\u001b[0;31mAttributeError\u001b[0m: 'LinearRegression' object has no attribute 'MSE'"
     ]
    }
   ],
   "source": [
    "plt.scatter(np.arange(len(lr.MSE)-400000), lr.MSE[400000:], marker='.')\n",
    "plt.xlabel('epochs')\n",
    "plt.ylabel('MSE')\n",
    "plt.show()"
   ]
  }
 ],
 "metadata": {
  "kernelspec": {
   "display_name": "Python 3",
   "language": "python",
   "name": "python3"
  },
  "language_info": {
   "codemirror_mode": {
    "name": "ipython",
    "version": 3
   },
   "file_extension": ".py",
   "mimetype": "text/x-python",
   "name": "python",
   "nbconvert_exporter": "python",
   "pygments_lexer": "ipython3",
   "version": "3.11.5"
  }
 },
 "nbformat": 4,
 "nbformat_minor": 5
}
